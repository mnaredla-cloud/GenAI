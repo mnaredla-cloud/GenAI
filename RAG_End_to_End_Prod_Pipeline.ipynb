{
  "nbformat": 4,
  "nbformat_minor": 0,
  "metadata": {
    "colab": {
      "provenance": [],
      "authorship_tag": "ABX9TyNANqlDHkzH00GEZLYkbm+/",
      "include_colab_link": true
    },
    "kernelspec": {
      "name": "python3",
      "display_name": "Python 3"
    },
    "language_info": {
      "name": "python"
    }
  },
  "cells": [
    {
      "cell_type": "markdown",
      "metadata": {
        "id": "view-in-github",
        "colab_type": "text"
      },
      "source": [
        "<a href=\"https://colab.research.google.com/github/mnaredla-cloud/GenAI/blob/main/RAG_End_to_End_Prod_Pipeline.ipynb\" target=\"_parent\"><img src=\"https://colab.research.google.com/assets/colab-badge.svg\" alt=\"Open In Colab\"/></a>"
      ]
    },
    {
      "cell_type": "code",
      "execution_count": null,
      "metadata": {
        "id": "cvxO8vENrvp7"
      },
      "outputs": [],
      "source": [
        "###Create a chat bot....which will asist customers by reading the provided documnets"
      ]
    },
    {
      "cell_type": "code",
      "source": [],
      "metadata": {
        "id": "yzBLFVJtstc-"
      },
      "execution_count": null,
      "outputs": []
    }
  ]
}