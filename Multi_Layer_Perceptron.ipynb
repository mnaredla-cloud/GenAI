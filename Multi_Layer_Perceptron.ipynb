{
  "nbformat": 4,
  "nbformat_minor": 0,
  "metadata": {
    "colab": {
      "provenance": [],
      "authorship_tag": "ABX9TyObjnKxwnMhEkBBFPyDQuus",
      "include_colab_link": true
    },
    "kernelspec": {
      "name": "python3",
      "display_name": "Python 3"
    },
    "language_info": {
      "name": "python"
    }
  },
  "cells": [
    {
      "cell_type": "markdown",
      "metadata": {
        "id": "view-in-github",
        "colab_type": "text"
      },
      "source": [
        "<a href=\"https://colab.research.google.com/github/mnaredla-cloud/GenAI/blob/main/Multi_Layer_Perceptron.ipynb\" target=\"_parent\"><img src=\"https://colab.research.google.com/assets/colab-badge.svg\" alt=\"Open In Colab\"/></a>"
      ]
    },
    {
      "cell_type": "code",
      "execution_count": 2,
      "metadata": {
        "id": "VoFBIPjHf08z"
      },
      "outputs": [],
      "source": [
        "import torch\n",
        "import torch.nn.functional as F\n",
        "import matplotlib.pyplot as plt\n",
        "%matplotlib inline"
      ]
    },
    {
      "cell_type": "code",
      "source": [
        "from google.colab import files\n",
        "uploaded = files.upload()\n",
        "\n",
        "words = open('names.txt', 'r').read().splitlines()\n",
        "words[:10]"
      ],
      "metadata": {
        "colab": {
          "base_uri": "https://localhost:8080/",
          "height": 252
        },
        "id": "qJ86mmuRgK8C",
        "outputId": "0c5e653f-f1db-43ac-d636-291f8fb6fa89"
      },
      "execution_count": 3,
      "outputs": [
        {
          "output_type": "display_data",
          "data": {
            "text/plain": [
              "<IPython.core.display.HTML object>"
            ],
            "text/html": [
              "\n",
              "     <input type=\"file\" id=\"files-d7341ac0-5f4e-457a-99cb-d36ea577bf71\" name=\"files[]\" multiple disabled\n",
              "        style=\"border:none\" />\n",
              "     <output id=\"result-d7341ac0-5f4e-457a-99cb-d36ea577bf71\">\n",
              "      Upload widget is only available when the cell has been executed in the\n",
              "      current browser session. Please rerun this cell to enable.\n",
              "      </output>\n",
              "      <script>// Copyright 2017 Google LLC\n",
              "//\n",
              "// Licensed under the Apache License, Version 2.0 (the \"License\");\n",
              "// you may not use this file except in compliance with the License.\n",
              "// You may obtain a copy of the License at\n",
              "//\n",
              "//      http://www.apache.org/licenses/LICENSE-2.0\n",
              "//\n",
              "// Unless required by applicable law or agreed to in writing, software\n",
              "// distributed under the License is distributed on an \"AS IS\" BASIS,\n",
              "// WITHOUT WARRANTIES OR CONDITIONS OF ANY KIND, either express or implied.\n",
              "// See the License for the specific language governing permissions and\n",
              "// limitations under the License.\n",
              "\n",
              "/**\n",
              " * @fileoverview Helpers for google.colab Python module.\n",
              " */\n",
              "(function(scope) {\n",
              "function span(text, styleAttributes = {}) {\n",
              "  const element = document.createElement('span');\n",
              "  element.textContent = text;\n",
              "  for (const key of Object.keys(styleAttributes)) {\n",
              "    element.style[key] = styleAttributes[key];\n",
              "  }\n",
              "  return element;\n",
              "}\n",
              "\n",
              "// Max number of bytes which will be uploaded at a time.\n",
              "const MAX_PAYLOAD_SIZE = 100 * 1024;\n",
              "\n",
              "function _uploadFiles(inputId, outputId) {\n",
              "  const steps = uploadFilesStep(inputId, outputId);\n",
              "  const outputElement = document.getElementById(outputId);\n",
              "  // Cache steps on the outputElement to make it available for the next call\n",
              "  // to uploadFilesContinue from Python.\n",
              "  outputElement.steps = steps;\n",
              "\n",
              "  return _uploadFilesContinue(outputId);\n",
              "}\n",
              "\n",
              "// This is roughly an async generator (not supported in the browser yet),\n",
              "// where there are multiple asynchronous steps and the Python side is going\n",
              "// to poll for completion of each step.\n",
              "// This uses a Promise to block the python side on completion of each step,\n",
              "// then passes the result of the previous step as the input to the next step.\n",
              "function _uploadFilesContinue(outputId) {\n",
              "  const outputElement = document.getElementById(outputId);\n",
              "  const steps = outputElement.steps;\n",
              "\n",
              "  const next = steps.next(outputElement.lastPromiseValue);\n",
              "  return Promise.resolve(next.value.promise).then((value) => {\n",
              "    // Cache the last promise value to make it available to the next\n",
              "    // step of the generator.\n",
              "    outputElement.lastPromiseValue = value;\n",
              "    return next.value.response;\n",
              "  });\n",
              "}\n",
              "\n",
              "/**\n",
              " * Generator function which is called between each async step of the upload\n",
              " * process.\n",
              " * @param {string} inputId Element ID of the input file picker element.\n",
              " * @param {string} outputId Element ID of the output display.\n",
              " * @return {!Iterable<!Object>} Iterable of next steps.\n",
              " */\n",
              "function* uploadFilesStep(inputId, outputId) {\n",
              "  const inputElement = document.getElementById(inputId);\n",
              "  inputElement.disabled = false;\n",
              "\n",
              "  const outputElement = document.getElementById(outputId);\n",
              "  outputElement.innerHTML = '';\n",
              "\n",
              "  const pickedPromise = new Promise((resolve) => {\n",
              "    inputElement.addEventListener('change', (e) => {\n",
              "      resolve(e.target.files);\n",
              "    });\n",
              "  });\n",
              "\n",
              "  const cancel = document.createElement('button');\n",
              "  inputElement.parentElement.appendChild(cancel);\n",
              "  cancel.textContent = 'Cancel upload';\n",
              "  const cancelPromise = new Promise((resolve) => {\n",
              "    cancel.onclick = () => {\n",
              "      resolve(null);\n",
              "    };\n",
              "  });\n",
              "\n",
              "  // Wait for the user to pick the files.\n",
              "  const files = yield {\n",
              "    promise: Promise.race([pickedPromise, cancelPromise]),\n",
              "    response: {\n",
              "      action: 'starting',\n",
              "    }\n",
              "  };\n",
              "\n",
              "  cancel.remove();\n",
              "\n",
              "  // Disable the input element since further picks are not allowed.\n",
              "  inputElement.disabled = true;\n",
              "\n",
              "  if (!files) {\n",
              "    return {\n",
              "      response: {\n",
              "        action: 'complete',\n",
              "      }\n",
              "    };\n",
              "  }\n",
              "\n",
              "  for (const file of files) {\n",
              "    const li = document.createElement('li');\n",
              "    li.append(span(file.name, {fontWeight: 'bold'}));\n",
              "    li.append(span(\n",
              "        `(${file.type || 'n/a'}) - ${file.size} bytes, ` +\n",
              "        `last modified: ${\n",
              "            file.lastModifiedDate ? file.lastModifiedDate.toLocaleDateString() :\n",
              "                                    'n/a'} - `));\n",
              "    const percent = span('0% done');\n",
              "    li.appendChild(percent);\n",
              "\n",
              "    outputElement.appendChild(li);\n",
              "\n",
              "    const fileDataPromise = new Promise((resolve) => {\n",
              "      const reader = new FileReader();\n",
              "      reader.onload = (e) => {\n",
              "        resolve(e.target.result);\n",
              "      };\n",
              "      reader.readAsArrayBuffer(file);\n",
              "    });\n",
              "    // Wait for the data to be ready.\n",
              "    let fileData = yield {\n",
              "      promise: fileDataPromise,\n",
              "      response: {\n",
              "        action: 'continue',\n",
              "      }\n",
              "    };\n",
              "\n",
              "    // Use a chunked sending to avoid message size limits. See b/62115660.\n",
              "    let position = 0;\n",
              "    do {\n",
              "      const length = Math.min(fileData.byteLength - position, MAX_PAYLOAD_SIZE);\n",
              "      const chunk = new Uint8Array(fileData, position, length);\n",
              "      position += length;\n",
              "\n",
              "      const base64 = btoa(String.fromCharCode.apply(null, chunk));\n",
              "      yield {\n",
              "        response: {\n",
              "          action: 'append',\n",
              "          file: file.name,\n",
              "          data: base64,\n",
              "        },\n",
              "      };\n",
              "\n",
              "      let percentDone = fileData.byteLength === 0 ?\n",
              "          100 :\n",
              "          Math.round((position / fileData.byteLength) * 100);\n",
              "      percent.textContent = `${percentDone}% done`;\n",
              "\n",
              "    } while (position < fileData.byteLength);\n",
              "  }\n",
              "\n",
              "  // All done.\n",
              "  yield {\n",
              "    response: {\n",
              "      action: 'complete',\n",
              "    }\n",
              "  };\n",
              "}\n",
              "\n",
              "scope.google = scope.google || {};\n",
              "scope.google.colab = scope.google.colab || {};\n",
              "scope.google.colab._files = {\n",
              "  _uploadFiles,\n",
              "  _uploadFilesContinue,\n",
              "};\n",
              "})(self);\n",
              "</script> "
            ]
          },
          "metadata": {}
        },
        {
          "output_type": "stream",
          "name": "stdout",
          "text": [
            "Saving names.txt to names.txt\n"
          ]
        },
        {
          "output_type": "execute_result",
          "data": {
            "text/plain": [
              "['emma',\n",
              " 'olivia',\n",
              " 'ava',\n",
              " 'isabella',\n",
              " 'sophia',\n",
              " 'charlotte',\n",
              " 'mia',\n",
              " 'amelia',\n",
              " 'harper',\n",
              " 'evelyn']"
            ]
          },
          "metadata": {},
          "execution_count": 3
        }
      ]
    },
    {
      "cell_type": "code",
      "source": [
        "len(words)"
      ],
      "metadata": {
        "colab": {
          "base_uri": "https://localhost:8080/"
        },
        "id": "DLVE6oMzgfos",
        "outputId": "06f82b96-2b30-4999-f80f-1b8d9e63fe7c"
      },
      "execution_count": 4,
      "outputs": [
        {
          "output_type": "execute_result",
          "data": {
            "text/plain": [
              "32033"
            ]
          },
          "metadata": {},
          "execution_count": 4
        }
      ]
    },
    {
      "cell_type": "code",
      "source": [
        "chars = sorted(list(set(''.join(words))))\n",
        "stoi = {s:i+1 for i,s in enumerate(chars)}\n",
        "stoi['.'] = 0\n",
        "itos = {i:s for s,i in stoi.items()}\n",
        "print(itos)"
      ],
      "metadata": {
        "colab": {
          "base_uri": "https://localhost:8080/"
        },
        "id": "J-4EpJrIgihz",
        "outputId": "d510314b-8e2b-457e-e39f-7b1fc07bb4e6"
      },
      "execution_count": 5,
      "outputs": [
        {
          "output_type": "stream",
          "name": "stdout",
          "text": [
            "{1: 'a', 2: 'b', 3: 'c', 4: 'd', 5: 'e', 6: 'f', 7: 'g', 8: 'h', 9: 'i', 10: 'j', 11: 'k', 12: 'l', 13: 'm', 14: 'n', 15: 'o', 16: 'p', 17: 'q', 18: 'r', 19: 's', 20: 't', 21: 'u', 22: 'v', 23: 'w', 24: 'x', 25: 'y', 26: 'z', 0: '.'}\n"
          ]
        }
      ]
    },
    {
      "cell_type": "code",
      "source": [
        "block_size = 3\n",
        "X, Y = [], []\n",
        "for w in words:\n",
        "  context = [0] * block_size\n",
        "  for ch in w + '.':\n",
        "    ix = stoi[ch]\n",
        "    X.append(context)\n",
        "    Y.append(ix)\n",
        "    context = context[1:] + [ix]\n",
        "X = torch.tensor(X)\n",
        "Y = torch.tensor(Y)"
      ],
      "metadata": {
        "id": "wnNhLngAN6yz"
      },
      "execution_count": 17,
      "outputs": []
    },
    {
      "cell_type": "code",
      "source": [
        "g = torch.Generator().manual_seed(2147483647)\n",
        "C = torch.randn((27, 2), generator = g)\n",
        "W1 = torch.randn((6, 100), generator = g)\n",
        "b1 = torch.randn(100, generator = g)\n",
        "W2 = torch.randn((100, 27), generator = g)\n",
        "b2 = torch.randn(27, generator = g)\n",
        "parameters = [C, W1, b1, W2, b2]"
      ],
      "metadata": {
        "id": "KqJphVTogzji"
      },
      "execution_count": 23,
      "outputs": []
    },
    {
      "cell_type": "code",
      "source": [
        "sum(p.nelement() for p in parameters) #Total no:of parameters in the model"
      ],
      "metadata": {
        "colab": {
          "base_uri": "https://localhost:8080/"
        },
        "id": "5UphY3Q7LAN2",
        "outputId": "501c147f-5209-4c9d-d014-bbebb4b99bc7"
      },
      "execution_count": 14,
      "outputs": [
        {
          "output_type": "execute_result",
          "data": {
            "text/plain": [
              "3481"
            ]
          },
          "metadata": {},
          "execution_count": 14
        }
      ]
    },
    {
      "cell_type": "code",
      "source": [],
      "metadata": {
        "id": "dD3U0xb5SrCX"
      },
      "execution_count": null,
      "outputs": []
    },
    {
      "cell_type": "code",
      "source": [
        "for p in parameters:\n",
        "  p.requires_grad = True"
      ],
      "metadata": {
        "id": "TPG6GGSqP58_"
      },
      "execution_count": 25,
      "outputs": []
    },
    {
      "cell_type": "code",
      "source": [
        "X.shape"
      ],
      "metadata": {
        "colab": {
          "base_uri": "https://localhost:8080/"
        },
        "id": "j-jIYR-FStUw",
        "outputId": "02663e6c-70cd-418d-e98a-fb75dc6299e1"
      },
      "execution_count": 28,
      "outputs": [
        {
          "output_type": "execute_result",
          "data": {
            "text/plain": [
              "torch.Size([228146, 3])"
            ]
          },
          "metadata": {},
          "execution_count": 28
        }
      ]
    },
    {
      "cell_type": "code",
      "source": [
        "torch.randint(0,5,(31,))"
      ],
      "metadata": {
        "colab": {
          "base_uri": "https://localhost:8080/"
        },
        "id": "7ZEdX0XyTE_7",
        "outputId": "8ac55a83-66e4-4f2d-e376-3e8b499c7789"
      },
      "execution_count": 29,
      "outputs": [
        {
          "output_type": "execute_result",
          "data": {
            "text/plain": [
              "tensor([2, 3, 1, 0, 2, 1, 1, 3, 3, 4, 0, 1, 0, 2, 0, 0, 2, 3, 0, 1, 4, 1, 2, 2,\n",
              "        2, 2, 2, 0, 2, 2, 2])"
            ]
          },
          "metadata": {},
          "execution_count": 29
        }
      ]
    },
    {
      "cell_type": "code",
      "source": [
        "ix = torch.randint(0, X.shape[0], (32,))"
      ],
      "metadata": {
        "id": "DejYIiWSTSKo"
      },
      "execution_count": 32,
      "outputs": []
    },
    {
      "cell_type": "code",
      "source": [
        "C[X[ix]]"
      ],
      "metadata": {
        "colab": {
          "base_uri": "https://localhost:8080/"
        },
        "id": "VbfaIv8ZTXoy",
        "outputId": "c4da3417-3a09-41bd-ca85-f356ebae34c8"
      },
      "execution_count": 34,
      "outputs": [
        {
          "output_type": "execute_result",
          "data": {
            "text/plain": [
              "tensor([[[ 0.3797, -0.3591],\n",
              "         [ 0.3797, -0.3591],\n",
              "         [ 0.3797, -0.3591]],\n",
              "\n",
              "        [[ 0.3797, -0.3591],\n",
              "         [-0.0085, -0.3227],\n",
              "         [ 0.3864,  2.1783]],\n",
              "\n",
              "        [[ 0.1678, -0.3464],\n",
              "         [-0.1603, -0.3740],\n",
              "         [-0.0085, -0.3227]],\n",
              "\n",
              "        [[ 0.0780, -0.3170],\n",
              "         [-0.1986, -0.3445],\n",
              "         [-0.0085, -0.3227]],\n",
              "\n",
              "        [[ 0.1678, -0.3464],\n",
              "         [-0.0512, -0.3861],\n",
              "         [-0.3749, -0.5842]],\n",
              "\n",
              "        [[-0.1603, -0.3740],\n",
              "         [ 0.0780, -0.3170],\n",
              "         [ 0.1678, -0.3464]],\n",
              "\n",
              "        [[ 0.3797, -0.3591],\n",
              "         [ 0.3797, -0.3591],\n",
              "         [ 0.3864,  2.1783]],\n",
              "\n",
              "        [[ 0.3797, -0.3591],\n",
              "         [ 0.3797, -0.3591],\n",
              "         [-0.0057, -0.4284]],\n",
              "\n",
              "        [[-0.1603, -0.3740],\n",
              "         [ 0.0780, -0.3170],\n",
              "         [ 0.5530,  2.3929]],\n",
              "\n",
              "        [[-0.0057, -0.4284],\n",
              "         [-0.0057, -0.4284],\n",
              "         [ 0.1678, -0.3464]],\n",
              "\n",
              "        [[ 0.1678, -0.3464],\n",
              "         [-0.1451, -0.1908],\n",
              "         [-0.1046, -0.2344]],\n",
              "\n",
              "        [[ 0.3864,  2.1783],\n",
              "         [ 0.1678, -0.3464],\n",
              "         [-0.1451, -0.1908]],\n",
              "\n",
              "        [[-0.0512, -0.3861],\n",
              "         [ 0.1678, -0.3464],\n",
              "         [-0.0512, -0.3861]],\n",
              "\n",
              "        [[-0.0057, -0.4284],\n",
              "         [ 0.1678, -0.3464],\n",
              "         [-0.1492, -0.3505]],\n",
              "\n",
              "        [[ 0.3797, -0.3591],\n",
              "         [-0.1674, -0.3540],\n",
              "         [ 0.1678, -0.3464]],\n",
              "\n",
              "        [[ 0.3797, -0.3591],\n",
              "         [ 0.3797, -0.3591],\n",
              "         [ 0.3797, -0.3591]],\n",
              "\n",
              "        [[ 0.1678, -0.3464],\n",
              "         [-0.1986, -0.3445],\n",
              "         [ 0.1678, -0.3464]],\n",
              "\n",
              "        [[ 0.3797, -0.3591],\n",
              "         [ 0.3797, -0.3591],\n",
              "         [-0.2443, -0.4084]],\n",
              "\n",
              "        [[ 0.3797, -0.3591],\n",
              "         [ 0.3797, -0.3591],\n",
              "         [-0.2409, -0.3426]],\n",
              "\n",
              "        [[-0.1046, -0.2344],\n",
              "         [-0.0057, -0.4284],\n",
              "         [-0.1740, -0.2305]],\n",
              "\n",
              "        [[-0.2443, -0.4084],\n",
              "         [ 0.0780, -0.3170],\n",
              "         [ 0.3864,  2.1783]],\n",
              "\n",
              "        [[-0.0057, -0.4284],\n",
              "         [ 0.0780, -0.3170],\n",
              "         [-0.1674, -0.3540]],\n",
              "\n",
              "        [[-0.1451, -0.1908],\n",
              "         [ 0.3864,  2.1783],\n",
              "         [-0.1046, -0.2344]],\n",
              "\n",
              "        [[-0.1674, -0.3540],\n",
              "         [-0.0085, -0.3227],\n",
              "         [-0.1046, -0.2344]],\n",
              "\n",
              "        [[ 0.1678, -0.3464],\n",
              "         [ 0.3864,  2.1783],\n",
              "         [-0.0085, -0.3227]],\n",
              "\n",
              "        [[ 0.3797, -0.3591],\n",
              "         [ 0.3797, -0.3591],\n",
              "         [ 0.0780, -0.3170]],\n",
              "\n",
              "        [[ 0.3797, -0.3591],\n",
              "         [ 0.3797, -0.3591],\n",
              "         [-0.0512, -0.3861]],\n",
              "\n",
              "        [[ 0.3797, -0.3591],\n",
              "         [-0.1603, -0.3740],\n",
              "         [ 0.1678, -0.3464]],\n",
              "\n",
              "        [[ 0.3797, -0.3591],\n",
              "         [ 0.3797, -0.3591],\n",
              "         [-0.0057, -0.4284]],\n",
              "\n",
              "        [[-0.1151, -0.4267],\n",
              "         [-0.1046, -0.2344],\n",
              "         [ 0.1678, -0.3464]],\n",
              "\n",
              "        [[ 0.3797, -0.3591],\n",
              "         [-0.0042, -0.3065],\n",
              "         [ 0.3864,  2.1783]],\n",
              "\n",
              "        [[ 0.0780, -0.3170],\n",
              "         [-0.0085, -0.3227],\n",
              "         [ 0.1219, -0.3499]]], grad_fn=<IndexBackward0>)"
            ]
          },
          "metadata": {},
          "execution_count": 34
        }
      ]
    },
    {
      "cell_type": "code",
      "source": [
        "for _ in range(10):\n",
        "  #minibatch\n",
        "  ix = torch.randint(0, X.shape[0], (32,))\n",
        "\n",
        "  #forward_pass\n",
        "  emb = C[X][ix]\n",
        "  h = torch.tanh(emb.view(-1, 6) @ W1 + b1)\n",
        "  logits = h @ W2 + b2\n",
        "  loss = F.cross_entropy(logits, Y[ix])\n",
        "  print(loss.item())\n",
        "\n",
        "  #backward pass\n",
        "  for p in parameters:\n",
        "    p.grad = None\n",
        "  loss.backward()\n",
        "\n",
        "  #update\n",
        "  for p in parameters:\n",
        "    p.data += -0.1 * p.grad"
      ],
      "metadata": {
        "colab": {
          "base_uri": "https://localhost:8080/"
        },
        "id": "0cwaQ6tpQE7_",
        "outputId": "82f02fd4-9790-4433-c91b-cfef10cb7371"
      },
      "execution_count": 37,
      "outputs": [
        {
          "output_type": "stream",
          "name": "stdout",
          "text": [
            "2.852262496948242\n",
            "2.8554089069366455\n",
            "2.6280906200408936\n",
            "2.6322951316833496\n",
            "2.8489797115325928\n",
            "2.5175983905792236\n",
            "2.665717124938965\n",
            "3.1750664710998535\n",
            "2.6490330696105957\n",
            "2.446056604385376\n"
          ]
        }
      ]
    }
  ]
}